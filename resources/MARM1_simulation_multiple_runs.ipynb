{
 "cells": [
  {
   "cell_type": "markdown",
   "metadata": {},
   "source": [
    "# Multiple simulations of the MARM1 model"
   ]
  },
  {
   "cell_type": "markdown",
   "metadata": {},
   "source": [
    "This notebook allows to run multiple sequential simulations of the MARM1 model in order to generate a dataset for multiple conditions. For a detailed description of how a single simulation run is set up and the visulization of a time-course trajectory please refer to the Jupyter Notebook: *MARM1_simulation_single_run.ipynb*. \n",
    "\n",
    "Note: this code can regenerate the entirity of datasets provided in this work. However, we have used a version of this code that runs on multiple processors to speed up simulation time of the whole dataset to few hours. Computation of the same extensive dataset using this notebook on a single processor is likely to require multiple days."
   ]
  },
  {
   "cell_type": "markdown",
   "metadata": {},
   "source": [
    "Importing the model and libraries necessary to run MARM1 model simulations. "
   ]
  },
  {
   "cell_type": "code",
   "execution_count": 6,
   "metadata": {},
   "outputs": [],
   "source": [
    "%matplotlib notebook\n",
    "import numpy as np\n",
    "import pandas as pd\n",
    "import seaborn as sns\n",
    "import matplotlib.pyplot as plt\n",
    "from tqdm import tqdm_notebook\n",
    "#load model \n",
    "from pysb.simulator import ScipyOdeSimulator\n",
    "from pysb.core import as_complex_pattern\n",
    "from MARM1 import model"
   ]
  },
  {
   "cell_type": "markdown",
   "metadata": {},
   "source": [
    "Generating the condition settings (e.g. RAFi and MEKi concentrations) for each model simulations to be run."
   ]
  },
  {
   "cell_type": "code",
   "execution_count": 7,
   "metadata": {},
   "outputs": [],
   "source": [
    "#define a ndoses x ndoses matrix of RAFi and MEKi dose combinations with 24h drug treatment followed by 2h of EGF stimulation\n",
    "n_doses=11;\n",
    "lb_RAFi=-4\n",
    "ub_RAFi=1\n",
    "lb_MEKi=-5\n",
    "ub_MEKi=0\n",
    "RAFi_concentration = np.append(np.array([0.0]), np.logspace(lb_RAFi, ub_RAFi, n_doses))\n",
    "MEKi_concentration = np.append(np.array([0.0]), np.logspace(lb_MEKi, ub_MEKi, n_doses))\n",
    "t_pretrt = [24]\n",
    "EGF_concentration = [0, 100]\n",
    "t_trt = [2]\n",
    "param_set_index = [0]\n",
    "N_time_points = 97\n",
    "#generate condition settings for multiple simulations\n",
    "settings_list=[]\n",
    "for param in param_set_index:\n",
    "    for rafi in RAFi_concentration:\n",
    "        for meki in MEKi_concentration:\n",
    "            for pretrt in t_pretrt:\n",
    "                for trt in t_trt:\n",
    "                    for egfc in EGF_concentration:\n",
    "                        settings_list.append([param, pretrt, rafi, meki, trt, egfc])              \n",
    "                        \n",
    "#define dose-responses with RAFi, MEKi and MEKi+RAFi(fixed) and different RAFi duration treatmeant before EGF\n",
    "param_set_index = np.linspace(0,99,100, dtype=int)\n",
    "#generate condition settings for multiple simulation\n",
    "for param in param_set_index:\n",
    "    \n",
    "    #dose-response RAFi\n",
    "    RAFi_concentration = np.append(np.array([0.0]), np.logspace(lb_RAFi, ub_RAFi, n_doses))\n",
    "    MEKi_concentration = [0.0]\n",
    "    t_pretrt = [24] \n",
    "    for rafi in RAFi_concentration:\n",
    "        for meki in MEKi_concentration:\n",
    "            for pretrt in t_pretrt:\n",
    "                for trt in t_trt:\n",
    "                    for egfc in EGF_concentration:\n",
    "                        settings_list.append([param, pretrt, rafi, meki, trt, egfc])\n",
    "   \n",
    "    #dose-response MEKi\n",
    "    RAFi_concentration = [0.0]\n",
    "    MEKi_concentration = np.append(np.array([0.0]), np.logspace(lb_MEKi, ub_MEKi, n_doses))\n",
    "    for rafi in RAFi_concentration:\n",
    "        for meki in MEKi_concentration:\n",
    "            for pretrt in t_pretrt:\n",
    "                for trt in t_trt:\n",
    "                    for egfc in EGF_concentration:\n",
    "                        settings_list.append([param, pretrt, rafi, meki, trt, egfc])\n",
    "    \n",
    "    #dose-response MEKi+RAFi(fixed)\n",
    "    RAFi_concentration = [1.0]\n",
    "    MEKi_concentration = np.append(np.array([0.0]), np.logspace(lb_MEKi, ub_MEKi, n_doses))\n",
    "    for rafi in RAFi_concentration:\n",
    "        for meki in MEKi_concentration:\n",
    "            for pretrt in t_pretrt:\n",
    "                for trt in t_trt:\n",
    "                    for egfc in EGF_concentration:\n",
    "                        settings_list.append([param, pretrt, rafi, meki, trt, egfc])\n",
    "    \n",
    "    #different RAFi treatment duration\n",
    "    RAFi_concentration = [1.0]\n",
    "    MEKi_concentration = [0.0]\n",
    "    t_pretrt = [0.83, 0.25, 0.5, 1 , 2, 4, 8]\n",
    "    for rafi in RAFi_concentration:\n",
    "        for meki in MEKi_concentration:\n",
    "            for pretrt in t_pretrt:\n",
    "                for trt in t_trt:\n",
    "                    for egfc in EGF_concentration:\n",
    "                        settings_list.append([param, pretrt, rafi, meki, trt, egfc])\n",
    "                    "
   ]
  },
  {
   "cell_type": "markdown",
   "metadata": {},
   "source": [
    "Defining support functions to run simulations. "
   ]
  },
  {
   "cell_type": "code",
   "execution_count": 8,
   "metadata": {},
   "outputs": [],
   "source": [
    "def equilibrate(simulator, initials):\n",
    "    \"\"\"Simulate a model from given initial conditions until it reaches steady state\"\"\"\n",
    "    scale = 10\n",
    "    t_start = 1e-4\n",
    "    df = None\n",
    "    tspan = np.geomspace(t_start, t_start * scale)\n",
    "    while True:\n",
    "        #print(f\"    at t={tspan[-1]:<5.3g} ... \", end='', flush=True)\n",
    "        res = simulator.run(tspan=tspan, initials=initials)\n",
    "        df = pd.concat([df, res.dataframe.iloc[1:]])\n",
    "        initials = res.species[-1]\n",
    "        close = np.isclose(\n",
    "            *res.species[[-1,-2]].view(float).reshape(2,-1),\n",
    "            rtol=1e-3\n",
    "        )\n",
    "        cs = np.sum(close)\n",
    "        n = len(simulator.model.species)\n",
    "        #print(f\"{cs}/{n} species converged\")\n",
    "        if np.all(close):\n",
    "            break\n",
    "        tspan *= scale\n",
    "    return df"
   ]
  },
  {
   "cell_type": "code",
   "execution_count": 9,
   "metadata": {},
   "outputs": [],
   "source": [
    "def get_species_index(model, pattern):\n",
    "    \"\"\"Return the integer species number for a given species in the model\"\"\"\n",
    "    pattern = as_complex_pattern(pattern)\n",
    "    matches = [\n",
    "        i for i, s in enumerate(model.species)\n",
    "        if s.is_equivalent_to(pattern)\n",
    "    ]\n",
    "    n = len(matches)\n",
    "    assert n == 1, f\"Expected exactly one match, got {n}\"\n",
    "    return matches[0]"
   ]
  },
  {
   "cell_type": "markdown",
   "metadata": {},
   "source": [
    "Simulating multiple condition runs and save the corresponding time-course trajectories on disk. "
   ]
  },
  {
   "cell_type": "code",
   "execution_count": null,
   "metadata": {},
   "outputs": [
    {
     "data": {
      "application/vnd.jupyter.widget-view+json": {
       "model_id": "fdd662953f00436abd6910caf046fa96",
       "version_major": 2,
       "version_minor": 0
      },
      "text/plain": [
       "HBox(children=(FloatProgress(value=0.0, description='Simulation progress', max=8888.0, style=ProgressStyle(des…"
      ]
     },
     "metadata": {},
     "output_type": "display_data"
    }
   ],
   "source": [
    "param_prev = -1\n",
    "#run a simulation for each selected condition\n",
    "for iset in tqdm_notebook(range(len(settings_list)), desc='Simulation progress'):\n",
    "   \n",
    "    #unload the settings and prepare the unperturbed model\n",
    "    [param, pretrt, rafi, meki, trt, egfc] =  settings_list[iset]\n",
    "    \n",
    "    #run a simulation of the unperturbed model to obtain initial steady state (if not run before)\n",
    "    if not (param == param_prev):\n",
    "        param_sets = pd.read_csv('parameter_sets.csv', index_col=0)\n",
    "        param_sets = param_sets.drop('chi2', axis=1)\n",
    "        params = param_sets.iloc[param].to_dict()\n",
    "        sim = ScipyOdeSimulator(model, param_values=params, atol=1E-50)\n",
    "        df_eq = equilibrate(sim, None)\n",
    "        \n",
    "\n",
    "    #run a time-course simulation for the pretreatment phase\n",
    "    RAFi_index = get_species_index(model, model.monomers.RAFi(raf=None))\n",
    "    MEKi_index = get_species_index(model, model.monomers.MEKi(mek=None))\n",
    "    EGF_index = get_species_index(model, model.monomers.EGF(rtk=None))\n",
    "    initials_pre = df_eq.iloc[-1, :len(model.species)].copy()\n",
    "    initials_pre[RAFi_index] = rafi\n",
    "    initials_pre[MEKi_index] = meki\n",
    "    initials_pre[EGF_index] = 0.0\n",
    "    tspan_pretrt = np.linspace(0, pretrt, N_time_points)  \n",
    "    df_pre= sim.run(tspan=tspan_pretrt, initials=initials_pre).dataframe\n",
    "    df_pre['time'] = df_pre.index\n",
    "    df_pre['time'] = df_pre['time']-pretrt\n",
    "    df_pre['time'].iloc[-1] = 0\n",
    "    df_pre.reset_index(drop=True, inplace=True)\n",
    "    df_pre.set_index('time', inplace=True)\n",
    "    \n",
    "    #run a time-course simulation for the EGF perturbaion phase\n",
    "    tspan_trt = np.linspace(0, trt, N_time_points)\n",
    "    initials_trt = df_pre.iloc[-1, :len(model.species)].copy()\n",
    "    initials_trt[RAFi_index] = rafi\n",
    "    initials_trt[MEKi_index] = meki\n",
    "    initials_trt[EGF_index] = egfc / model.expressions['m_Da_EGF'].get_value()\n",
    "    df_trt = sim.run(tspan=tspan_trt, initials=initials_trt).dataframe\n",
    "    \n",
    "    #concatenate pretreatment and EGFR perturnations and settings \n",
    "    obs = pd.concat([df_pre, df_trt.iloc[1:]])[df_pre.keys()[len(model.species):]]\n",
    "    obs.loc[:, (obs < 1e-10).all()] = 0\n",
    "    \n",
    "    #append simulations results on file \n",
    "    df_settings=pd.DataFrame(obs.shape[0]*[['A375_sim', param, 'Vemurafenib', 'Cobimetinib', rafi, meki, pretrt, pretrt, egfc, trt]], columns=['Cell_line', 'Parameter_set', 'Drug A', 'Drug B', 'Concentration A (uM)', 'Concentration B (uM)', 'Time A (h)', 'Time B (h)', 'EGF (ng/mL)', 'EGF total duration (h)'] )    \n",
    "    obs = obs.join(df_settings.set_index(obs.index))\n",
    "    #obs = pd.concat([df_settings,obs.index], axis=1)\n",
    "    if (iset == 0): \n",
    "       obs.to_csv('trajectories_multiple_runs.csv', mode='w', header=True)\n",
    "    else:\n",
    "       obs.to_csv('trajectories_multiple_runs.csv', mode='a', header=False)\n",
    "        \n",
    "    #update param used\n",
    "    param_prev=param"
   ]
  },
  {
   "cell_type": "code",
   "execution_count": null,
   "metadata": {},
   "outputs": [],
   "source": []
  }
 ],
 "metadata": {
  "kernelspec": {
   "display_name": "Python 3",
   "language": "python",
   "name": "python3"
  },
  "language_info": {
   "codemirror_mode": {
    "name": "ipython",
    "version": 3
   },
   "file_extension": ".py",
   "mimetype": "text/x-python",
   "name": "python",
   "nbconvert_exporter": "python",
   "pygments_lexer": "ipython3",
   "version": "3.7.6"
  }
 },
 "nbformat": 4,
 "nbformat_minor": 4
}
