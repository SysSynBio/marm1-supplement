{
 "cells": [
  {
   "cell_type": "markdown",
   "metadata": {},
   "source": [
    "# Simulation of EGF stimulation in drug-adapted BRAF<sup>V600E</sup> melanoma cells using the MARM1 model\n",
    "\n",
    "Here you can simulate the time-course respose of drug-adapted BRAF<sup>V600E</sup> melanoma cells to addition of exogenous EGF. This code simulates the time-course response of A375 melanoma cells adapted to a dose of RAF (vemurafenib) and/or MEK inhibitors (cobimetinib) and then stimulated with EGF.\n",
    "\n",
    "**Note**: this code performs the simulation for a single condition and visualizes the time-course response. Use the Jupyter Notebook *MARM1_simulation_multiple_conditions.ipynb* to generate simulation results for multiple conditions (e.g. multiple dose combinations). \n",
    "\n"
   ]
  },
  {
   "cell_type": "markdown",
   "metadata": {},
   "source": [
    "## Import of libraries\n",
    "Importing libraries necessary to run MARM1 model simulations."
   ]
  },
  {
   "cell_type": "code",
   "execution_count": null,
   "metadata": {},
   "outputs": [],
   "source": [
    "%matplotlib notebook\n",
    "import numpy as np\n",
    "import pandas as pd\n",
    "import seaborn as sns\n",
    "import matplotlib.pyplot as plt"
   ]
  },
  {
   "cell_type": "markdown",
   "metadata": {},
   "source": [
    "Importing the MARM1 PySB model and the simulator.  "
   ]
  },
  {
   "cell_type": "code",
   "execution_count": null,
   "metadata": {},
   "outputs": [],
   "source": [
    "from pysb.simulator import ScipyOdeSimulator\n",
    "from pysb.core import as_complex_pattern\n",
    "\n",
    "from MARM1 import model"
   ]
  },
  {
   "cell_type": "markdown",
   "metadata": {},
   "source": [
    "## User-defined experimental setup\n",
    "In this section you can alter the setup of the experiment simulated by MARM1. First, you need to define the experimental setup of the pre-treatment phase and of the subsequent ligand stimulation phase. The variables needed for the pre-treatment phase are:\n",
    "\n",
    "<b>RAFi_concentration ($\\mu$M)</b>: defines the concentration of the RAF inhibitor (vemurafenib) during the pre-treatment and treatment phase. \n",
    "\n",
    "<b>MEKi_concentration ($\\mu$M)</b>: defines the concentration of the RAF inhibitor (vemurafenib) during the pre-treatment and treatment phase. \n",
    "\n",
    "<b>EGFR_expression (fold-change from basal)</b>: defines the level of expression of the EGFR protein. A value of 1.0 represents the baseline expression in A375 cells as determined by absolute proteomics. Values > 1 and <1 denote overexpression and downregulation, respectively. We used a value of 10 and a value of 0.001 to simulate CRISPRa and CRISPRi control of EGFR expression. \n",
    "\n",
    "<b>Pretreatment_time (h)</b>: defines the duration of the pre-treatment phase.\n",
    "    \n",
    "For the treatment phase, you need to set the concentration of the EGF ligand and the running time of simulation after ligand stimulation. This is done with the following variables:\n",
    "\n",
    "<b>EGF_concentration (ng/mL)</b>: defines the EGF concentrations used to stimulate cells. We have calibrated the model only using data from 100 ng/mL, which is thus the default value.\n",
    "\n",
    "<b>Simulation_time (h)</b>: define the simulation time after ligand stimulation. For the stimulation of cells expressing normal levels of EGFR, 2 hours is enough to visualize the pulsatile reactivation of MAPK signaling.\n",
    "\n",
    "<b>N_time_points</b>: define the number of time points returned by each model simulation. \n",
    "\n",
    "Choose the experiment to simulate by setting the following variables and re-running the notebook:"
   ]
  },
  {
   "cell_type": "markdown",
   "metadata": {},
   "source": [
    "1. **RAF inhibitor** pre-treatment concentration in μM."
   ]
  },
  {
   "cell_type": "code",
   "execution_count": null,
   "metadata": {},
   "outputs": [],
   "source": [
    "RAFi_concentration = 1.0"
   ]
  },
  {
   "cell_type": "markdown",
   "metadata": {},
   "source": [
    "2. **MEK inhibitor** pre-treatment concentration in μM."
   ]
  },
  {
   "cell_type": "code",
   "execution_count": null,
   "metadata": {},
   "outputs": [],
   "source": [
    "MEKi_concentration = 0.0"
   ]
  },
  {
   "cell_type": "markdown",
   "metadata": {},
   "source": [
    "X. **EGFR** under- or over-expression. 1.0 represents copy number in unmodified A375 cells, < 1 denotes downregulation, and > 1 denotes overexpression."
   ]
  },
  {
   "cell_type": "code",
   "execution_count": null,
   "metadata": {},
   "outputs": [],
   "source": [
    "EGFR_expression = 1.0"
   ]
  },
  {
   "cell_type": "markdown",
   "metadata": {},
   "source": [
    "3. **Pretreatment duration** in hours."
   ]
  },
  {
   "cell_type": "code",
   "execution_count": null,
   "metadata": {},
   "outputs": [],
   "source": [
    "t_pretrt = 24"
   ]
  },
  {
   "cell_type": "markdown",
   "metadata": {},
   "source": [
    "4. **EGF** treatment concentration in ng/mL."
   ]
  },
  {
   "cell_type": "code",
   "execution_count": null,
   "metadata": {},
   "outputs": [],
   "source": [
    "EGF_concentration = 100"
   ]
  },
  {
   "cell_type": "markdown",
   "metadata": {},
   "source": [
    "5. **Simulation time** in hours."
   ]
  },
  {
   "cell_type": "code",
   "execution_count": null,
   "metadata": {},
   "outputs": [],
   "source": [
    "t_trt = 2"
   ]
  },
  {
   "cell_type": "markdown",
   "metadata": {},
   "source": [
    "6. **Parameter set** selects which of the 100 best-fit parameter sets to use for the simulation. Set 0 is the best fit and 99 the worst."
   ]
  },
  {
   "cell_type": "code",
   "execution_count": null,
   "metadata": {},
   "outputs": [],
   "source": [
    "param_set_index = 1"
   ]
  },
  {
   "cell_type": "markdown",
   "metadata": {},
   "source": [
    "7. **N_time_points** defineds the number of time points returned by each individual model simulation"
   ]
  },
  {
   "cell_type": "code",
   "execution_count": null,
   "metadata": {},
   "outputs": [],
   "source": [
    "N_time_points = 100"
   ]
  },
  {
   "cell_type": "markdown",
   "metadata": {},
   "source": [
    "## Parameter set preparation"
   ]
  },
  {
   "cell_type": "markdown",
   "metadata": {},
   "source": [
    "Read in the CSV file containing the best-fit parameter sets, and drop the chi$^2$ value which we don't need here."
   ]
  },
  {
   "cell_type": "code",
   "execution_count": null,
   "metadata": {},
   "outputs": [],
   "source": [
    "param_sets = pd.read_csv('parameter_sets.csv', index_col=0)\n",
    "param_sets = param_sets.drop('chi2', axis=1)"
   ]
  },
  {
   "cell_type": "markdown",
   "metadata": {},
   "source": [
    "Extract the chosen parameter set and convert it into a dict."
   ]
  },
  {
   "cell_type": "code",
   "execution_count": null,
   "metadata": {},
   "outputs": [],
   "source": [
    "params = param_sets.iloc[param_set_index].to_dict()"
   ]
  },
  {
   "cell_type": "markdown",
   "metadata": {},
   "source": [
    "Override the `EGFR_crispr` parameter with the user-specified value for EGFR under/over-expression."
   ]
  },
  {
   "cell_type": "code",
   "execution_count": null,
   "metadata": {},
   "outputs": [],
   "source": [
    "params['EGFR_crispr'] = EGFR_expression"
   ]
  },
  {
   "cell_type": "markdown",
   "metadata": {},
   "source": [
    "## Simulations"
   ]
  },
  {
   "cell_type": "markdown",
   "metadata": {},
   "source": [
    "First we define some utility functions that will be used below.\n",
    "*Equilibrate* runs a model simulation till steady state for that parameter set.\n",
    "*Get_species_index* find and retunrs the index of speies in the model given input specie patterns. "
   ]
  },
  {
   "cell_type": "code",
   "execution_count": null,
   "metadata": {},
   "outputs": [],
   "source": [
    "def equilibrate(simulator, initials):\n",
    "    \"\"\"Simulate a model from given initial conditions until it reaches steady state\"\"\"\n",
    "    scale = 10\n",
    "    t_start = 1e-4\n",
    "    df = None\n",
    "    tspan = np.geomspace(t_start, t_start * scale)\n",
    "    while True:\n",
    "        print(f\"    at t={tspan[-1]:<5.3g} ... \", end='', flush=True)\n",
    "        res = simulator.run(tspan=tspan, initials=initials)\n",
    "        df = pd.concat([df, res.dataframe.iloc[1:]])\n",
    "        initials = res.species[-1]\n",
    "        close = np.isclose(\n",
    "            *res.species[[-1,-2]].view(float).reshape(2,-1),\n",
    "            rtol=1e-3\n",
    "        )\n",
    "        cs = np.sum(close)\n",
    "        n = len(model.species)\n",
    "        print(f\"{cs}/{n} species converged\")\n",
    "        if np.all(close):\n",
    "            break\n",
    "        tspan *= scale\n",
    "    return df"
   ]
  },
  {
   "cell_type": "code",
   "execution_count": null,
   "metadata": {},
   "outputs": [],
   "source": [
    "def get_species_index(model, pattern):\n",
    "    \"\"\"Return the integer species number for a given species in the model\"\"\"\n",
    "    pattern = as_complex_pattern(pattern)\n",
    "    matches = [\n",
    "        i for i, s in enumerate(model.species)\n",
    "        if s.is_equivalent_to(pattern)\n",
    "    ]\n",
    "    n = len(matches)\n",
    "    assert n == 1, f\"Expected exactly one match, got {n}\"\n",
    "    return matches[0]"
   ]
  },
  {
   "cell_type": "markdown",
   "metadata": {},
   "source": [
    "## Initial equilibrium\n",
    "First we run the model from its baseline initial conditions until equilibrium is reached. For example protein synthesis/degradation, phosphorylation/dephosphorylation, and drug binding/unbinding all need to reach steady state to match the state of the cells in the experimental setup. There may be some time without visible progress as behind the scenes PySB runs BioNetGen to generate the reaction network and Cython to compile the resulting differential equations into efficient executable code."
   ]
  },
  {
   "cell_type": "code",
   "execution_count": null,
   "metadata": {},
   "outputs": [],
   "source": [
    "sim = ScipyOdeSimulator(model, param_values=params)\n",
    "df_eq = equilibrate(sim, None)"
   ]
  },
  {
   "cell_type": "markdown",
   "metadata": {},
   "source": [
    "Now that the model has been simulated once and the actual molecular species have been enumerated, we can find the exact species numbers for the inhibitors and EGF. These are needed so that their concentrations can be overridden in the model state for subsequent simulations."
   ]
  },
  {
   "cell_type": "code",
   "execution_count": null,
   "metadata": {},
   "outputs": [],
   "source": [
    "RAFi_index = get_species_index(model, model.monomers.RAFi(raf=None))\n",
    "MEKi_index = get_species_index(model, model.monomers.MEKi(mek=None))\n",
    "EGF_index = get_species_index(model, model.monomers.EGF(rtk=None))"
   ]
  },
  {
   "cell_type": "markdown",
   "metadata": {},
   "source": [
    "## Inhibitor pre-treatment"
   ]
  },
  {
   "cell_type": "markdown",
   "metadata": {},
   "source": [
    "We take the final state of the equilibration simulation and use it as the initial state of this new simulation, overriding the RAFi and MEKi concentrations with the user-selected values."
   ]
  },
  {
   "cell_type": "code",
   "execution_count": null,
   "metadata": {},
   "outputs": [],
   "source": [
    "initials_pre = df_eq.iloc[-1, :len(model.species)].copy()\n",
    "initials_pre[RAFi_index] = RAFi_concentration\n",
    "initials_pre[MEKi_index] = MEKi_concentration\n",
    "tspan_pretrt = np.linspace(0, t_pretrt, N_time_points)\n",
    "pre_sim= sim.run(tspan=tspan_pretrt, initials=initials_pre)\n",
    "df_pre_sim = pre_sim.dataframe"
   ]
  },
  {
   "cell_type": "markdown",
   "metadata": {},
   "source": [
    "We want to retain only the first 24 hours of pre-treatment plus the state at final equilibrium, so we cut the time series down using a Pandas slice operation and adjust the remaining time values to begin at -24."
   ]
  },
  {
   "cell_type": "code",
   "execution_count": null,
   "metadata": {},
   "outputs": [],
   "source": [
    "pre_time_max = t_pretrt\n",
    "df_pre = pd.concat([df_pre_sim.loc[:pre_time_max], df_pre_sim.iloc[[-1]]])\n",
    "df_pre['time'] = df_pre.index\n",
    "df_pre['time'] -= df_pre['time'].iloc[-2]\n",
    "df_pre['time'].iloc[-1] = 0\n",
    "df_pre = df_pre.set_index('time')"
   ]
  },
  {
   "cell_type": "markdown",
   "metadata": {},
   "source": [
    "## EGF treatment"
   ]
  },
  {
   "cell_type": "markdown",
   "metadata": {},
   "source": [
    "We run another simulation starting from the final state of the pre-treatment simulation, overriding the EGF concentration with the user-selected value. This is a fixed-time simulation rather than the steady-state equilibration used in the previous simulations."
   ]
  },
  {
   "cell_type": "code",
   "execution_count": null,
   "metadata": {
    "scrolled": false
   },
   "outputs": [],
   "source": [
    "tspan_trt = np.linspace(0, t_trt, N_time_points)\n",
    "initials_trt = df_pre.iloc[-1, :len(model.species)].copy()\n",
    "initials_trt[EGF_index] = EGF_concentration\n",
    "res_trt = sim.run(tspan=tspan_trt, initials=initials_trt)"
   ]
  },
  {
   "cell_type": "markdown",
   "metadata": {},
   "source": [
    "Concatenate the dataframes holding the pre-treatment and treatment simulation trajectories, keeping only the columns corresponding to model observables. Also filter out \"noise\" (insignificant concentration fluctuations caused by numerical integration tolerance issues)."
   ]
  },
  {
   "cell_type": "code",
   "execution_count": null,
   "metadata": {},
   "outputs": [],
   "source": [
    "obs_names = [x.name for x in model.observables]\n",
    "obs = pd.concat([df_pre, res_trt.dataframe])[obs_names]\n",
    "obs.loc[:, (obs < 1e-10).all()] = 0"
   ]
  },
  {
   "cell_type": "markdown",
   "metadata": {},
   "source": [
    "## Write time courses to CSV file"
   ]
  },
  {
   "cell_type": "markdown",
   "metadata": {},
   "source": [
    "Append information on parameter sets used in this simulation and save the time course trajectories to file."
   ]
  },
  {
   "cell_type": "code",
   "execution_count": null,
   "metadata": {},
   "outputs": [],
   "source": [
    "df_settings=pd.DataFrame(obs.shape[0]*[[param_set_index, t_pretrt, RAFi_concentration, MEKi_concentration, t_trt, EGF_concentration, EGFR_expression]], columns=['param_set_index', 'time_pre_treatment' , 'RAFi_concentration' , 'MEKi_concentration' , 'time_treatment', 'EGF_concentration', 'EGFR_expression'] )\n",
    "obs = obs.join(df_settings.set_index(obs.index))\n",
    "obs.to_csv('trajectories_single_condition.csv')"
   ]
  },
  {
   "cell_type": "markdown",
   "metadata": {},
   "source": [
    "## Plot time courses"
   ]
  },
  {
   "cell_type": "markdown",
   "metadata": {},
   "source": [
    "PLot time-course trajectories of meaninfgul model species. The pre-treatment timescale is collapsed on a smallar interval for display purposes."
   ]
  },
  {
   "cell_type": "code",
   "execution_count": null,
   "metadata": {},
   "outputs": [],
   "source": [
    "pre_time_scale = 0.5\n",
    "obs_plot = obs.reset_index()\n",
    "time_scale_factor = pre_time_scale / -obs_plot['time'].iloc[0]\n",
    "obs_plot.loc[obs_plot['time'] < 0, 'time'] *= time_scale_factor"
   ]
  },
  {
   "cell_type": "code",
   "execution_count": null,
   "metadata": {
    "scrolled": false
   },
   "outputs": [],
   "source": [
    "obs_melted = obs_plot.melt(id_vars='time')\n",
    "g = sns.FacetGrid(\n",
    "    obs_melted, col='variable', hue='variable', col_wrap=4,\n",
    "    sharex=False, sharey=False, size=1.9, aspect=1.25\n",
    ")\n",
    "g.map(plt.plot, 'time', 'value')\n",
    "for ax in g.axes:\n",
    "    _, ymax = ax.get_ylim()\n",
    "    ax.set_ylim(ymin=0, ymax=ymax * 1.03)\n",
    "    ax.set_xticks([-pre_time_scale, 0, 1, t_trt])\n",
    "    ax.set_xticklabels(['-24', '0', '1', str(t_trt)])\n",
    "    ax.axvline(0, color='k', linewidth=0.5, linestyle='--')\n",
    "g.set_titles('{col_name}')\n",
    "g.set_xlabels('time (hours)')\n",
    "g.set_ylabels('amount (\\u03bcM)')\n",
    "plt.tight_layout()"
   ]
  }
 ],
 "metadata": {
  "kernelspec": {
   "display_name": "Python 3",
   "language": "python",
   "name": "python3"
  },
  "language_info": {
   "codemirror_mode": {
    "name": "ipython",
    "version": 3
   },
   "file_extension": ".py",
   "mimetype": "text/x-python",
   "name": "python",
   "nbconvert_exporter": "python",
   "pygments_lexer": "ipython3",
   "version": "3.7.6"
  }
 },
 "nbformat": 4,
 "nbformat_minor": 2
}
